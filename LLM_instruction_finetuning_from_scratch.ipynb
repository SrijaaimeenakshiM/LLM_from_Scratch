{
  "nbformat": 4,
  "nbformat_minor": 0,
  "metadata": {
    "colab": {
      "provenance": [],
      "gpuType": "T4",
      "authorship_tag": "ABX9TyOnjK4jdehDcV28Qgx0adFB",
      "include_colab_link": true
    },
    "kernelspec": {
      "name": "python3",
      "display_name": "Python 3"
    },
    "language_info": {
      "name": "python"
    },
    "accelerator": "GPU"
  },
  "cells": [
    {
      "cell_type": "markdown",
      "metadata": {
        "id": "view-in-github",
        "colab_type": "text"
      },
      "source": [
        "<a href=\"https://colab.research.google.com/github/SrijaaimeenakshiM/LLM_from_Scratch/blob/main/LLM_instruction_finetuning_from_scratch.ipynb\" target=\"_parent\"><img src=\"https://colab.research.google.com/assets/colab-badge.svg\" alt=\"Open In Colab\"/></a>"
      ]
    },
    {
      "cell_type": "code",
      "execution_count": null,
      "metadata": {
        "id": "uBF8cu04ZmQG"
      },
      "outputs": [],
      "source": [
        "import json\n",
        "\n",
        "with open(\"/content/instruction-data.json\", 'r') as f:\n",
        "\n",
        "    data = json.load(f)"
      ]
    },
    {
      "cell_type": "code",
      "source": [
        "len(data)"
      ],
      "metadata": {
        "colab": {
          "base_uri": "https://localhost:8080/"
        },
        "id": "lCFfI-AqcEZI",
        "outputId": "b2ca0737-c1b5-40cd-f7ff-3691db3941b0"
      },
      "execution_count": null,
      "outputs": [
        {
          "output_type": "execute_result",
          "data": {
            "text/plain": [
              "1100"
            ]
          },
          "metadata": {},
          "execution_count": 5
        }
      ]
    },
    {
      "cell_type": "code",
      "source": [
        "print(data[50])"
      ],
      "metadata": {
        "colab": {
          "base_uri": "https://localhost:8080/"
        },
        "id": "6g7r_wiQbw_Q",
        "outputId": "4a1a0c0a-72de-473f-c8f8-358b668ca1c1"
      },
      "execution_count": null,
      "outputs": [
        {
          "output_type": "stream",
          "name": "stdout",
          "text": [
            "{'instruction': 'Identify the correct spelling of the following word.', 'input': 'Ocassion', 'output': \"The correct spelling is 'Occasion.'\"}\n"
          ]
        }
      ]
    },
    {
      "cell_type": "code",
      "source": [
        "'''converting input into the format\n",
        "Below is an instruction that describes a task. Write a response that appropriately completes the request.\n",
        "\n",
        "### Instruction:\n",
        "Identify the correct spelling of the following word.\n",
        "\n",
        "### Input:\n",
        "Ocassion\n",
        "\n",
        "### Response:\n",
        "The correct spelling is 'Occasion.'''\n",
        "#This is known as Alpaca format"
      ],
      "metadata": {
        "id": "A97FWAmycAtm"
      },
      "execution_count": null,
      "outputs": []
    },
    {
      "cell_type": "code",
      "source": [
        "def format_input(input):\n",
        "    formatted_input = (\n",
        "        \"Below is an instruction that describes a task. Write a response that appropriately completes the request.\"\n",
        "        f\"\\n\\n## Instruction:\\n{input['instruction']}\"\n",
        "    )\n",
        "\n",
        "    # Conditionally add input section\n",
        "    if input['input']:\n",
        "        formatted_input += f\"\\n\\n## Input:\\n{input['input']}\"\n",
        "\n",
        "    formatted_input += f\"\\n\\n## Response:\\n{input['output']}\"\n",
        "    return formatted_input\n"
      ],
      "metadata": {
        "id": "AqlMFOjUce-e"
      },
      "execution_count": null,
      "outputs": []
    },
    {
      "cell_type": "code",
      "source": [
        "input=format_input(data[50])\n",
        "print(input)"
      ],
      "metadata": {
        "colab": {
          "base_uri": "https://localhost:8080/"
        },
        "id": "r7MIuDsFeOT6",
        "outputId": "35b4f966-ffbe-4783-87c7-d244c6c32313"
      },
      "execution_count": null,
      "outputs": [
        {
          "output_type": "stream",
          "name": "stdout",
          "text": [
            "Below is an instruction that describes a task. Write a response that appropriately completes the request.\n",
            "\n",
            "## Instruction:\n",
            "Identify the correct spelling of the following word.\n",
            "\n",
            "## Input:\n",
            "Ocassion\n",
            "\n",
            "## Response:\n",
            "The correct spelling is 'Occasion.'\n"
          ]
        }
      ]
    },
    {
      "cell_type": "code",
      "source": [
        "import torch\n",
        "from torch.utils.data import Dataset\n",
        "\n",
        "\n",
        "class Instruction_Dataset(Dataset):\n",
        "  def __init__(self,data,tokenizer):\n",
        "    self.data=data\n",
        "    self.encoded_input=[]\n",
        "\n",
        "    for i in data:\n",
        "      full_text=format_input(i)\n",
        "      self.encoded_input.append(tokenizer.encode(full_text))\n",
        "\n",
        "\n",
        "  def __getitem__(self,index):\n",
        "    return self.encoded_input[index]\n",
        "\n",
        "  def __len__(self):\n",
        "    return len(self.data)\n",
        "\n"
      ],
      "metadata": {
        "id": "QG0XQq3AhmQO"
      },
      "execution_count": null,
      "outputs": []
    },
    {
      "cell_type": "code",
      "source": [
        "#Splitting the train_test data\n",
        "\n",
        "train_portion=int(0.90*len(data))\n",
        "test_portion=int(0.10*len(data))\n",
        "\n",
        "print(train_portion)\n",
        "print(test_portion)\n"
      ],
      "metadata": {
        "colab": {
          "base_uri": "https://localhost:8080/"
        },
        "id": "8W3yKXMges3g",
        "outputId": "9f0d56c9-d30d-41bf-b21f-087905734b76"
      },
      "execution_count": null,
      "outputs": [
        {
          "output_type": "stream",
          "name": "stdout",
          "text": [
            "990\n",
            "110\n"
          ]
        }
      ]
    },
    {
      "cell_type": "code",
      "source": [
        "train_data = data[:train_portion]\n",
        "test_data = data[train_portion:train_portion + test_portion]"
      ],
      "metadata": {
        "id": "yeMboX6M9WDx"
      },
      "execution_count": null,
      "outputs": []
    },
    {
      "cell_type": "code",
      "source": [
        "#We should add padding to make all the inputs are of same size\n",
        "\n",
        "def custom_collate_draft(batch,device,pad_token_id=50256):\n",
        "\n",
        "  max_len=max(len(input)+1 for input in batch)\n",
        "\n",
        "  inputs=[]\n",
        "\n",
        "  for input in batch:\n",
        "    new_input=input.copy()\n",
        "\n",
        "    new_input+=[pad_token_id]\n",
        "\n",
        "    padded=(new_input+[pad_token_id]*(max_len-len(new_input)))\n",
        "    inputs.append(torch.tensor(padded[:-1]))\n",
        "\n",
        "  input_tensor=torch.stack(inputs).to(device)\n",
        "\n",
        "  return input_tensor\n"
      ],
      "metadata": {
        "id": "uuPD_7Xnf9Mw"
      },
      "execution_count": null,
      "outputs": []
    },
    {
      "cell_type": "code",
      "source": [
        "device = torch.device(\"cuda\" if torch.cuda.is_available() else \"cpu\")\n",
        "inputs_1 = [0, 1, 2, 3, 4]\n",
        "inputs_2 = [5, 6]\n",
        "inputs_3 = [7, 8, 9]\n",
        "\n",
        "batch = (\n",
        "    inputs_1,\n",
        "    inputs_2,\n",
        "    inputs_3\n",
        ")\n",
        "\n",
        "print(custom_collate_draft(batch,device))"
      ],
      "metadata": {
        "colab": {
          "base_uri": "https://localhost:8080/"
        },
        "id": "qDKKyCG3tNgD",
        "outputId": "e52191ed-e97c-4b24-bc9a-c7276af5d1ba"
      },
      "execution_count": null,
      "outputs": [
        {
          "output_type": "stream",
          "name": "stdout",
          "text": [
            "tensor([[    0,     1,     2,     3,     4],\n",
            "        [    5,     6, 50256, 50256, 50256],\n",
            "        [    7,     8,     9, 50256, 50256]], device='cuda:0')\n"
          ]
        }
      ]
    },
    {
      "cell_type": "code",
      "source": [
        "def custom_collate_draft_2(\n",
        "    batch,\n",
        "    device,\n",
        "    pad_token_id=50256\n",
        "\n",
        "):\n",
        "    # Find the longest sequence in the batch\n",
        "    batch_max_length = max(len(item)+1 for item in batch)\n",
        "\n",
        "    # Pad and prepare inputs\n",
        "    inputs_lst, targets_lst = [], []\n",
        "\n",
        "    for item in batch:\n",
        "        new_item = item.copy()\n",
        "        # Add an <|endoftext|> token\n",
        "        new_item += [pad_token_id]\n",
        "        # Pad sequences to max_length\n",
        "        padded = (\n",
        "            new_item + [pad_token_id] *\n",
        "            (batch_max_length - len(new_item))\n",
        "        )\n",
        "        inputs = torch.tensor(padded[:-1])  # Truncate the last token for inputs\n",
        "        targets = torch.tensor(padded[1:])  # Shift +1 to the right for targets\n",
        "        inputs_lst.append(inputs)\n",
        "        targets_lst.append(targets)\n",
        "\n",
        "    # Convert list of inputs to tensor and transfer to target device\n",
        "    inputs_tensor = torch.stack(inputs_lst).to(device)\n",
        "    targets_tensor = torch.stack(targets_lst).to(device)\n",
        "    return inputs_tensor, targets_tensor"
      ],
      "metadata": {
        "id": "xC9uNeqXtu8Q"
      },
      "execution_count": null,
      "outputs": []
    },
    {
      "cell_type": "code",
      "source": [
        "inputs_1 = [0, 1, 2, 3, 4]\n",
        "inputs_2 = [5, 6]\n",
        "inputs_3 = [7, 8, 9]\n",
        "\n",
        "batch = (\n",
        "    inputs_1,\n",
        "    inputs_2,\n",
        "    inputs_3\n",
        ")\n",
        "\n",
        "inputs, targets = custom_collate_draft_2(batch,device)\n",
        "print(inputs)\n",
        "print(targets)"
      ],
      "metadata": {
        "colab": {
          "base_uri": "https://localhost:8080/"
        },
        "id": "9ZWYU2Q9zNlF",
        "outputId": "e464b32b-f576-4a48-e32d-a2fbb63b8bfa"
      },
      "execution_count": null,
      "outputs": [
        {
          "output_type": "stream",
          "name": "stdout",
          "text": [
            "tensor([[    0,     1,     2,     3,     4],\n",
            "        [    5,     6, 50256, 50256, 50256],\n",
            "        [    7,     8,     9, 50256, 50256]], device='cuda:0')\n",
            "tensor([[    1,     2,     3,     4, 50256],\n",
            "        [    6, 50256, 50256, 50256, 50256],\n",
            "        [    8,     9, 50256, 50256, 50256]], device='cuda:0')\n"
          ]
        }
      ]
    },
    {
      "cell_type": "code",
      "source": [
        "def custom_collate_fn(\n",
        "    batch,\n",
        "     device,\n",
        "    pad_token_id=50256,\n",
        "    ignore_index=-100,\n",
        "    allowed_max_length=None\n",
        "\n",
        "):\n",
        "    # Find the longest sequence in the batch\n",
        "    batch_max_length = max(len(item)+1 for item in batch)\n",
        "\n",
        "    # Pad and prepare inputs and targets\n",
        "    inputs_lst, targets_lst = [], []\n",
        "\n",
        "    for item in batch:\n",
        "        new_item = item.copy()\n",
        "        # Add an <|endoftext|> token\n",
        "        new_item += [pad_token_id]\n",
        "        # Pad sequences to max_length\n",
        "        padded = (\n",
        "            new_item + [pad_token_id] *\n",
        "            (batch_max_length - len(new_item))\n",
        "        )\n",
        "        inputs = torch.tensor(padded[:-1])  # Truncate the last token for inputs\n",
        "        targets = torch.tensor(padded[1:])  # Shift +1 to the right for targets\n",
        "\n",
        "        # New: Replace all but the first padding tokens in targets by ignore_index\n",
        "        mask = targets == pad_token_id\n",
        "        indices = torch.nonzero(mask).squeeze()\n",
        "        if indices.numel() > 1:\n",
        "            targets[indices[1:]] = ignore_index\n",
        "\n",
        "        # New: Optionally truncate to maximum sequence length\n",
        "        if allowed_max_length is not None:\n",
        "            inputs = inputs[:allowed_max_length]\n",
        "            targets = targets[:allowed_max_length]\n",
        "\n",
        "        inputs_lst.append(inputs)\n",
        "        targets_lst.append(targets)\n",
        "\n",
        "    # Convert list of inputs and targets to tensors and transfer to target device\n",
        "    inputs_tensor = torch.stack(inputs_lst).to(device)\n",
        "    targets_tensor = torch.stack(targets_lst).to(device)\n",
        "\n",
        "    return inputs_tensor, targets_tensor"
      ],
      "metadata": {
        "id": "l7eFRVEHzPvT"
      },
      "execution_count": null,
      "outputs": []
    },
    {
      "cell_type": "code",
      "source": [
        "#In PyTorch, when using CrossEntropyLoss (or nn.functional.cross_entropy), any target value equal to -100 is ignored during loss computation.\n",
        "\n",
        "#-100 means: “Don't compute loss for this token.”\n",
        "\n",
        "inputs_1 = [0, 1, 2, 3, 4]\n",
        "inputs_2 = [5, 6]\n",
        "inputs_3 = [7, 8, 9]\n",
        "\n",
        "batch = (\n",
        "    inputs_1,\n",
        "    inputs_2,\n",
        "    inputs_3\n",
        ")\n",
        "\n",
        "inputs, targets = custom_collate_fn(batch,device)\n",
        "print(inputs)\n",
        "print(targets)"
      ],
      "metadata": {
        "colab": {
          "base_uri": "https://localhost:8080/"
        },
        "id": "_OrS8nwi64RA",
        "outputId": "7e4c4a33-2e63-4f60-9849-c947ecaf277c"
      },
      "execution_count": null,
      "outputs": [
        {
          "output_type": "stream",
          "name": "stdout",
          "text": [
            "tensor([[    0,     1,     2,     3,     4],\n",
            "        [    5,     6, 50256, 50256, 50256],\n",
            "        [    7,     8,     9, 50256, 50256]], device='cuda:0')\n",
            "tensor([[    1,     2,     3,     4, 50256],\n",
            "        [    6, 50256,  -100,  -100,  -100],\n",
            "        [    8,     9, 50256,  -100,  -100]], device='cuda:0')\n"
          ]
        }
      ]
    },
    {
      "cell_type": "code",
      "source": [
        "from functools import partial\n",
        "customized_collate_fn = partial(custom_collate_fn, device=device, allowed_max_length=1024)"
      ],
      "metadata": {
        "id": "zCyywVDv68g9"
      },
      "execution_count": null,
      "outputs": []
    },
    {
      "cell_type": "code",
      "source": [
        "from torch.utils.data import DataLoader\n",
        "\n",
        "\n",
        "num_workers = 0\n",
        "batch_size = 8\n",
        "\n",
        "torch.manual_seed(123)\n",
        "\n",
        "train_dataset = Instruction_Dataset(train_data, tokenizer)\n",
        "train_loader = DataLoader(\n",
        "    train_dataset,\n",
        "    batch_size=batch_size,\n",
        "    collate_fn=customized_collate_fn,\n",
        "    shuffle=True,\n",
        "    drop_last=True,\n",
        "    num_workers=num_workers\n",
        ")\n",
        "\n",
        "\n",
        "\n",
        "test_dataset = Instruction_Dataset(test_data, tokenizer)\n",
        "test_loader = DataLoader(\n",
        "    test_dataset,\n",
        "    batch_size=batch_size,\n",
        "    collate_fn=customized_collate_fn,\n",
        "    shuffle=False,\n",
        "    drop_last=False,\n",
        "    num_workers=num_workers\n",
        ")"
      ],
      "metadata": {
        "id": "7by9hdhw8v0Q"
      },
      "execution_count": null,
      "outputs": []
    },
    {
      "cell_type": "code",
      "source": [
        "print(\"Train loader:\")\n",
        "for inputs, targets in train_loader:\n",
        "    print(inputs.shape, targets.shape)"
      ],
      "metadata": {
        "colab": {
          "base_uri": "https://localhost:8080/"
        },
        "id": "-nyupjnX9kbM",
        "outputId": "afe823b9-92bc-4c63-e7ad-43fafa1cf406"
      },
      "execution_count": null,
      "outputs": [
        {
          "output_type": "stream",
          "name": "stdout",
          "text": [
            "Train loader:\n",
            "torch.Size([8, 51]) torch.Size([8, 51])\n",
            "torch.Size([8, 51]) torch.Size([8, 51])\n",
            "torch.Size([8, 48]) torch.Size([8, 48])\n",
            "torch.Size([8, 42]) torch.Size([8, 42])\n",
            "torch.Size([8, 51]) torch.Size([8, 51])\n",
            "torch.Size([8, 47]) torch.Size([8, 47])\n",
            "torch.Size([8, 50]) torch.Size([8, 50])\n",
            "torch.Size([8, 53]) torch.Size([8, 53])\n",
            "torch.Size([8, 53]) torch.Size([8, 53])\n",
            "torch.Size([8, 49]) torch.Size([8, 49])\n",
            "torch.Size([8, 56]) torch.Size([8, 56])\n",
            "torch.Size([8, 49]) torch.Size([8, 49])\n",
            "torch.Size([8, 53]) torch.Size([8, 53])\n",
            "torch.Size([8, 46]) torch.Size([8, 46])\n",
            "torch.Size([8, 48]) torch.Size([8, 48])\n",
            "torch.Size([8, 47]) torch.Size([8, 47])\n",
            "torch.Size([8, 50]) torch.Size([8, 50])\n",
            "torch.Size([8, 49]) torch.Size([8, 49])\n",
            "torch.Size([8, 49]) torch.Size([8, 49])\n",
            "torch.Size([8, 50]) torch.Size([8, 50])\n",
            "torch.Size([8, 45]) torch.Size([8, 45])\n",
            "torch.Size([8, 50]) torch.Size([8, 50])\n",
            "torch.Size([8, 52]) torch.Size([8, 52])\n",
            "torch.Size([8, 45]) torch.Size([8, 45])\n",
            "torch.Size([8, 49]) torch.Size([8, 49])\n",
            "torch.Size([8, 50]) torch.Size([8, 50])\n",
            "torch.Size([8, 48]) torch.Size([8, 48])\n",
            "torch.Size([8, 52]) torch.Size([8, 52])\n",
            "torch.Size([8, 50]) torch.Size([8, 50])\n",
            "torch.Size([8, 52]) torch.Size([8, 52])\n",
            "torch.Size([8, 50]) torch.Size([8, 50])\n",
            "torch.Size([8, 51]) torch.Size([8, 51])\n",
            "torch.Size([8, 48]) torch.Size([8, 48])\n",
            "torch.Size([8, 51]) torch.Size([8, 51])\n",
            "torch.Size([8, 48]) torch.Size([8, 48])\n",
            "torch.Size([8, 59]) torch.Size([8, 59])\n",
            "torch.Size([8, 57]) torch.Size([8, 57])\n",
            "torch.Size([8, 47]) torch.Size([8, 47])\n",
            "torch.Size([8, 50]) torch.Size([8, 50])\n",
            "torch.Size([8, 25]) torch.Size([8, 25])\n",
            "torch.Size([8, 50]) torch.Size([8, 50])\n",
            "torch.Size([8, 56]) torch.Size([8, 56])\n",
            "torch.Size([8, 56]) torch.Size([8, 56])\n",
            "torch.Size([8, 47]) torch.Size([8, 47])\n",
            "torch.Size([8, 50]) torch.Size([8, 50])\n",
            "torch.Size([8, 50]) torch.Size([8, 50])\n",
            "torch.Size([8, 50]) torch.Size([8, 50])\n",
            "torch.Size([8, 48]) torch.Size([8, 48])\n",
            "torch.Size([8, 50]) torch.Size([8, 50])\n",
            "torch.Size([8, 57]) torch.Size([8, 57])\n",
            "torch.Size([8, 51]) torch.Size([8, 51])\n",
            "torch.Size([8, 47]) torch.Size([8, 47])\n",
            "torch.Size([8, 48]) torch.Size([8, 48])\n",
            "torch.Size([8, 59]) torch.Size([8, 59])\n",
            "torch.Size([8, 48]) torch.Size([8, 48])\n",
            "torch.Size([8, 44]) torch.Size([8, 44])\n",
            "torch.Size([8, 19]) torch.Size([8, 19])\n",
            "torch.Size([8, 49]) torch.Size([8, 49])\n",
            "torch.Size([8, 59]) torch.Size([8, 59])\n",
            "torch.Size([8, 47]) torch.Size([8, 47])\n",
            "torch.Size([8, 47]) torch.Size([8, 47])\n",
            "torch.Size([8, 45]) torch.Size([8, 45])\n",
            "torch.Size([8, 47]) torch.Size([8, 47])\n",
            "torch.Size([8, 48]) torch.Size([8, 48])\n",
            "torch.Size([8, 47]) torch.Size([8, 47])\n",
            "torch.Size([8, 54]) torch.Size([8, 54])\n",
            "torch.Size([8, 22]) torch.Size([8, 22])\n",
            "torch.Size([8, 49]) torch.Size([8, 49])\n",
            "torch.Size([8, 48]) torch.Size([8, 48])\n",
            "torch.Size([8, 47]) torch.Size([8, 47])\n",
            "torch.Size([8, 54]) torch.Size([8, 54])\n",
            "torch.Size([8, 48]) torch.Size([8, 48])\n",
            "torch.Size([8, 48]) torch.Size([8, 48])\n",
            "torch.Size([8, 50]) torch.Size([8, 50])\n",
            "torch.Size([8, 50]) torch.Size([8, 50])\n",
            "torch.Size([8, 47]) torch.Size([8, 47])\n",
            "torch.Size([8, 58]) torch.Size([8, 58])\n",
            "torch.Size([8, 47]) torch.Size([8, 47])\n",
            "torch.Size([8, 53]) torch.Size([8, 53])\n",
            "torch.Size([8, 47]) torch.Size([8, 47])\n",
            "torch.Size([8, 46]) torch.Size([8, 46])\n",
            "torch.Size([8, 48]) torch.Size([8, 48])\n",
            "torch.Size([8, 44]) torch.Size([8, 44])\n",
            "torch.Size([8, 49]) torch.Size([8, 49])\n",
            "torch.Size([8, 44]) torch.Size([8, 44])\n",
            "torch.Size([8, 46]) torch.Size([8, 46])\n",
            "torch.Size([8, 45]) torch.Size([8, 45])\n",
            "torch.Size([8, 53]) torch.Size([8, 53])\n",
            "torch.Size([8, 27]) torch.Size([8, 27])\n",
            "torch.Size([8, 50]) torch.Size([8, 50])\n",
            "torch.Size([8, 23]) torch.Size([8, 23])\n",
            "torch.Size([8, 51]) torch.Size([8, 51])\n",
            "torch.Size([8, 56]) torch.Size([8, 56])\n",
            "torch.Size([8, 52]) torch.Size([8, 52])\n",
            "torch.Size([8, 24]) torch.Size([8, 24])\n",
            "torch.Size([8, 48]) torch.Size([8, 48])\n",
            "torch.Size([8, 42]) torch.Size([8, 42])\n",
            "torch.Size([8, 52]) torch.Size([8, 52])\n",
            "torch.Size([8, 53]) torch.Size([8, 53])\n",
            "torch.Size([8, 42]) torch.Size([8, 42])\n",
            "torch.Size([8, 47]) torch.Size([8, 47])\n",
            "torch.Size([8, 46]) torch.Size([8, 46])\n",
            "torch.Size([8, 46]) torch.Size([8, 46])\n",
            "torch.Size([8, 46]) torch.Size([8, 46])\n",
            "torch.Size([8, 45]) torch.Size([8, 45])\n",
            "torch.Size([8, 51]) torch.Size([8, 51])\n",
            "torch.Size([8, 34]) torch.Size([8, 34])\n",
            "torch.Size([8, 46]) torch.Size([8, 46])\n",
            "torch.Size([8, 44]) torch.Size([8, 44])\n",
            "torch.Size([8, 51]) torch.Size([8, 51])\n",
            "torch.Size([8, 45]) torch.Size([8, 45])\n",
            "torch.Size([8, 50]) torch.Size([8, 50])\n",
            "torch.Size([8, 50]) torch.Size([8, 50])\n",
            "torch.Size([8, 48]) torch.Size([8, 48])\n",
            "torch.Size([8, 55]) torch.Size([8, 55])\n",
            "torch.Size([8, 44]) torch.Size([8, 44])\n",
            "torch.Size([8, 47]) torch.Size([8, 47])\n",
            "torch.Size([8, 41]) torch.Size([8, 41])\n",
            "torch.Size([8, 51]) torch.Size([8, 51])\n",
            "torch.Size([8, 43]) torch.Size([8, 43])\n",
            "torch.Size([8, 47]) torch.Size([8, 47])\n",
            "torch.Size([8, 48]) torch.Size([8, 48])\n",
            "torch.Size([8, 50]) torch.Size([8, 50])\n"
          ]
        }
      ]
    },
    {
      "cell_type": "code",
      "source": [
        "import torch.nn as nn\n",
        "class MultiHeadAttention(nn.Module):\n",
        "    def __init__(self, d_in, d_out, context_length, dropout, num_heads, qkv_bias=False):\n",
        "        super().__init__()\n",
        "        assert (d_out % num_heads == 0), \\\n",
        "            \"d_out must be divisible by num_heads\"\n",
        "\n",
        "        self.d_out = d_out\n",
        "        self.num_heads = num_heads\n",
        "        self.head_dim = d_out // num_heads # Reduce the projection dim to match desired output dim\n",
        "\n",
        "        self.W_query = nn.Linear(d_in, d_out, bias=qkv_bias)\n",
        "        self.W_key = nn.Linear(d_in, d_out, bias=qkv_bias)\n",
        "        self.W_value = nn.Linear(d_in, d_out, bias=qkv_bias)\n",
        "        self.out_proj = nn.Linear(d_out, d_out)  # Linear layer to combine head outputs\n",
        "        self.dropout = nn.Dropout(dropout)\n",
        "        self.register_buffer(\n",
        "            \"mask\",\n",
        "            torch.triu(torch.ones(context_length, context_length),\n",
        "                       diagonal=1)\n",
        "        )\n",
        "\n",
        "    def forward(self, x):\n",
        "        b, num_tokens, d_in = x.shape\n",
        "\n",
        "        keys = self.W_key(x) # Shape: (b, num_tokens, d_out)\n",
        "        queries = self.W_query(x)\n",
        "        values = self.W_value(x)\n",
        "\n",
        "        # We implicitly split the matrix by adding a `num_heads` dimension\n",
        "        # Unroll last dim: (b, num_tokens, d_out) -> (b, num_tokens, num_heads, head_dim)\n",
        "        keys = keys.view(b, num_tokens, self.num_heads, self.head_dim)\n",
        "        values = values.view(b, num_tokens, self.num_heads, self.head_dim)\n",
        "        queries = queries.view(b, num_tokens, self.num_heads, self.head_dim)\n",
        "\n",
        "        # Transpose: (b, num_tokens, num_heads, head_dim) -> (b, num_heads, num_tokens, head_dim)\n",
        "        keys = keys.transpose(1, 2)\n",
        "        queries = queries.transpose(1, 2)\n",
        "        values = values.transpose(1, 2)\n",
        "\n",
        "        # Compute scaled dot-product attention (aka self-attention) with a causal mask\n",
        "        attn_scores = queries @ keys.transpose(2, 3)  # Dot product for each head\n",
        "\n",
        "        # Original mask truncated to the number of tokens and converted to boolean\n",
        "        mask_bool = self.mask.bool()[:num_tokens, :num_tokens]\n",
        "\n",
        "        # Use the mask to fill attention scores\n",
        "        attn_scores.masked_fill_(mask_bool, -torch.inf)\n",
        "\n",
        "        attn_weights = torch.softmax(attn_scores / keys.shape[-1]**0.5, dim=-1)\n",
        "        attn_weights = self.dropout(attn_weights)\n",
        "\n",
        "        # Shape: (b, num_tokens, num_heads, head_dim)\n",
        "        context_vec = (attn_weights @ values).transpose(1, 2)\n",
        "\n",
        "        # Combine heads, where self.d_out = self.num_heads * self.head_dim\n",
        "        context_vec = context_vec.contiguous().view(b, num_tokens, self.d_out)\n",
        "        context_vec = self.out_proj(context_vec) # optional projection\n",
        "\n",
        "        return context_vec"
      ],
      "metadata": {
        "id": "XY7JUetW9qmp"
      },
      "execution_count": null,
      "outputs": []
    },
    {
      "cell_type": "code",
      "source": [
        "import torch.nn as nn\n",
        "import torch\n",
        "class LayerNorm(nn.Module):\n",
        "    def __init__(self, emb_dim):\n",
        "        super().__init__()\n",
        "        self.eps = 1e-5\n",
        "        self.scale = nn.Parameter(torch.ones(emb_dim))\n",
        "        self.shift = nn.Parameter(torch.zeros(emb_dim))\n",
        "\n",
        "    def forward(self, x):\n",
        "        mean = x.mean(dim=-1, keepdim=True)\n",
        "        var = x.var(dim=-1, keepdim=True, unbiased=False)\n",
        "        norm_x = (x - mean) / torch.sqrt(var + self.eps)\n",
        "        return self.scale * norm_x + self.shift\n",
        "\n",
        "class GELU(nn.Module):\n",
        "    def __init__(self):\n",
        "        super().__init__()\n",
        "\n",
        "    def forward(self, x):\n",
        "        return 0.5 * x * (1 + torch.tanh(\n",
        "            torch.sqrt(torch.tensor(2.0 / torch.pi)) *\n",
        "            (x + 0.044715 * torch.pow(x, 3))\n",
        "        ))\n",
        "\n",
        "\n",
        "class FeedForward(nn.Module):\n",
        "    def __init__(self, cfg):\n",
        "        super().__init__()\n",
        "        self.layers = nn.Sequential(\n",
        "            nn.Linear(cfg[\"emb_dim\"], 4 * cfg[\"emb_dim\"]), ## Expansion\n",
        "            GELU(), ## Activation\n",
        "            nn.Linear(4 * cfg[\"emb_dim\"], cfg[\"emb_dim\"]), ## Contraction\n",
        "        )\n",
        "\n",
        "    def forward(self, x):\n",
        "        return self.layers(x)\n",
        "\n",
        "\n",
        "class TransformerBlock(nn.Module):\n",
        "    def __init__(self, cfg):\n",
        "        super().__init__()\n",
        "        self.att = MultiHeadAttention(\n",
        "            d_in=cfg[\"emb_dim\"],\n",
        "            d_out=cfg[\"emb_dim\"],\n",
        "            context_length=cfg[\"context_length\"],\n",
        "            num_heads=cfg[\"n_heads\"],\n",
        "            dropout=cfg[\"drop_rate\"],\n",
        "            qkv_bias=cfg[\"qkv_bias\"])\n",
        "        self.ff = FeedForward(cfg)\n",
        "        self.norm1 = LayerNorm(cfg[\"emb_dim\"])\n",
        "        self.norm2 = LayerNorm(cfg[\"emb_dim\"])\n",
        "        self.drop_shortcut = nn.Dropout(cfg[\"drop_rate\"])\n",
        "\n",
        "    def forward(self, x):\n",
        "        # Shortcut connection for attention block\n",
        "        shortcut = x\n",
        "        x = self.norm1(x)\n",
        "        x = self.att(x)  # Shape [batch_size, num_tokens, emb_size]\n",
        "        x = self.drop_shortcut(x)\n",
        "        x = x + shortcut  # Add the original input back\n",
        "\n",
        "        # Shortcut connection for feed forward block\n",
        "        shortcut = x\n",
        "        x = self.norm2(x)\n",
        "        x = self.ff(x)\n",
        "        # 2*4*768\n",
        "        x = self.drop_shortcut(x)\n",
        "        x = x + shortcut  # Add the original input back\n",
        "\n",
        "        return x\n",
        "        # 2*4*768\n",
        "\n"
      ],
      "metadata": {
        "id": "TrUo3fN9C4Bi"
      },
      "execution_count": null,
      "outputs": []
    },
    {
      "cell_type": "code",
      "source": [
        "#architecture of LLM\n",
        "class GPTModel(nn.Module):\n",
        "    def __init__(self, cfg):\n",
        "        super().__init__()\n",
        "        self.tok_emb = nn.Embedding(cfg[\"vocab_size\"], cfg[\"emb_dim\"])\n",
        "        self.pos_emb = nn.Embedding(cfg[\"context_length\"], cfg[\"emb_dim\"])\n",
        "        self.drop_emb = nn.Dropout(cfg[\"drop_rate\"])\n",
        "\n",
        "        self.trf_blocks = nn.Sequential(\n",
        "            *[TransformerBlock(cfg) for _ in range(cfg[\"n_layers\"])])\n",
        "\n",
        "        self.final_norm = LayerNorm(cfg[\"emb_dim\"])\n",
        "        self.out_head = nn.Linear(\n",
        "            cfg[\"emb_dim\"], cfg[\"vocab_size\"], bias=False\n",
        "        )\n",
        "\n",
        "    def forward(self, in_idx):\n",
        "        batch_size, seq_len = in_idx.shape\n",
        "        tok_embeds = self.tok_emb(in_idx)\n",
        "        pos_embeds = self.pos_emb(torch.arange(seq_len, device=in_idx.device))\n",
        "        x = tok_embeds + pos_embeds  # Shape [batch_size, num_tokens, emb_size]\n",
        "        x = self.drop_emb(x)\n",
        "        x = self.trf_blocks(x)\n",
        "        x = self.final_norm(x)\n",
        "        logits = self.out_head(x)\n",
        "        return logits"
      ],
      "metadata": {
        "id": "aHnPP_D7RBQH"
      },
      "execution_count": null,
      "outputs": []
    },
    {
      "cell_type": "code",
      "source": [
        "def assign(left, right):\n",
        "    if left.shape != right.shape:\n",
        "        raise ValueError(f\"Shape mismatch. Left: {left.shape}, Right: {right.shape}\")\n",
        "    return torch.nn.Parameter(torch.tensor(right))"
      ],
      "metadata": {
        "id": "n51AuumtPmhX"
      },
      "execution_count": null,
      "outputs": []
    },
    {
      "cell_type": "code",
      "source": [
        "import numpy as np\n",
        "\n",
        "def load_weights_into_gpt(gpt, params):\n",
        "    gpt.pos_emb.weight = assign(gpt.pos_emb.weight, params['wpe'])\n",
        "    gpt.tok_emb.weight = assign(gpt.tok_emb.weight, params['wte'])\n",
        "\n",
        "    for b in range(len(params[\"blocks\"])):\n",
        "        q_w, k_w, v_w = np.split(\n",
        "            (params[\"blocks\"][b][\"attn\"][\"c_attn\"])[\"w\"], 3, axis=-1)\n",
        "        gpt.trf_blocks[b].att.W_query.weight = assign(\n",
        "            gpt.trf_blocks[b].att.W_query.weight, q_w.T)\n",
        "        gpt.trf_blocks[b].att.W_key.weight = assign(\n",
        "            gpt.trf_blocks[b].att.W_key.weight, k_w.T)\n",
        "        gpt.trf_blocks[b].att.W_value.weight = assign(\n",
        "            gpt.trf_blocks[b].att.W_value.weight, v_w.T)\n",
        "\n",
        "        q_b, k_b, v_b = np.split(\n",
        "            (params[\"blocks\"][b][\"attn\"][\"c_attn\"])[\"b\"], 3, axis=-1)\n",
        "        gpt.trf_blocks[b].att.W_query.bias = assign(\n",
        "            gpt.trf_blocks[b].att.W_query.bias, q_b)\n",
        "        gpt.trf_blocks[b].att.W_key.bias = assign(\n",
        "            gpt.trf_blocks[b].att.W_key.bias, k_b)\n",
        "        gpt.trf_blocks[b].att.W_value.bias = assign(\n",
        "            gpt.trf_blocks[b].att.W_value.bias, v_b)\n",
        "\n",
        "        gpt.trf_blocks[b].att.out_proj.weight = assign(\n",
        "            gpt.trf_blocks[b].att.out_proj.weight,\n",
        "            params[\"blocks\"][b][\"attn\"][\"c_proj\"][\"w\"].T)\n",
        "        gpt.trf_blocks[b].att.out_proj.bias = assign(\n",
        "            gpt.trf_blocks[b].att.out_proj.bias,\n",
        "            params[\"blocks\"][b][\"attn\"][\"c_proj\"][\"b\"])\n",
        "\n",
        "        gpt.trf_blocks[b].ff.layers[0].weight = assign(\n",
        "            gpt.trf_blocks[b].ff.layers[0].weight,\n",
        "            params[\"blocks\"][b][\"mlp\"][\"c_fc\"][\"w\"].T)\n",
        "        gpt.trf_blocks[b].ff.layers[0].bias = assign(\n",
        "            gpt.trf_blocks[b].ff.layers[0].bias,\n",
        "            params[\"blocks\"][b][\"mlp\"][\"c_fc\"][\"b\"])\n",
        "        gpt.trf_blocks[b].ff.layers[2].weight = assign(\n",
        "            gpt.trf_blocks[b].ff.layers[2].weight,\n",
        "            params[\"blocks\"][b][\"mlp\"][\"c_proj\"][\"w\"].T)\n",
        "        gpt.trf_blocks[b].ff.layers[2].bias = assign(\n",
        "            gpt.trf_blocks[b].ff.layers[2].bias,\n",
        "            params[\"blocks\"][b][\"mlp\"][\"c_proj\"][\"b\"])\n",
        "\n",
        "        gpt.trf_blocks[b].norm1.scale = assign(\n",
        "            gpt.trf_blocks[b].norm1.scale,\n",
        "            params[\"blocks\"][b][\"ln_1\"][\"g\"])\n",
        "        gpt.trf_blocks[b].norm1.shift = assign(\n",
        "            gpt.trf_blocks[b].norm1.shift,\n",
        "            params[\"blocks\"][b][\"ln_1\"][\"b\"])\n",
        "        gpt.trf_blocks[b].norm2.scale = assign(\n",
        "            gpt.trf_blocks[b].norm2.scale,\n",
        "            params[\"blocks\"][b][\"ln_2\"][\"g\"])\n",
        "        gpt.trf_blocks[b].norm2.shift = assign(\n",
        "            gpt.trf_blocks[b].norm2.shift,\n",
        "            params[\"blocks\"][b][\"ln_2\"][\"b\"])\n",
        "\n",
        "    gpt.final_norm.scale = assign(gpt.final_norm.scale, params[\"g\"])\n",
        "    gpt.final_norm.shift = assign(gpt.final_norm.shift, params[\"b\"])\n",
        "    gpt.out_head.weight = assign(gpt.out_head.weight, params[\"wte\"])\n"
      ],
      "metadata": {
        "id": "kZ1FDqNiUoCj"
      },
      "execution_count": null,
      "outputs": []
    },
    {
      "cell_type": "code",
      "source": [
        "from gpt_download3 import download_and_load_gpt2\n",
        "\n",
        "BASE_CONFIG = {\n",
        "    \"vocab_size\": 50257,     # Vocabulary size\n",
        "    \"context_length\": 1024,  # Context length\n",
        "    \"drop_rate\": 0.0,        # Dropout rate\n",
        "    \"qkv_bias\": True         # Query-key-value bias\n",
        "}\n",
        "\n",
        "model_configs = {\n",
        "    \"gpt2-small (124M)\": {\"emb_dim\": 768, \"n_layers\": 12, \"n_heads\": 12},\n",
        "    \"gpt2-medium (355M)\": {\"emb_dim\": 1024, \"n_layers\": 24, \"n_heads\": 16},\n",
        "    \"gpt2-large (774M)\": {\"emb_dim\": 1280, \"n_layers\": 36, \"n_heads\": 20},\n",
        "    \"gpt2-xl (1558M)\": {\"emb_dim\": 1600, \"n_layers\": 48, \"n_heads\": 25},\n",
        "}\n",
        "\n",
        "CHOOSE_MODEL = \"gpt2-medium (355M)\"\n",
        "\n",
        "BASE_CONFIG.update(model_configs[CHOOSE_MODEL])"
      ],
      "metadata": {
        "id": "RqFbdBW2C9L7"
      },
      "execution_count": null,
      "outputs": []
    },
    {
      "cell_type": "code",
      "source": [
        "settings,params=download_and_load_gpt2(model_size=\"355M\",models_dir=\"gpt2\")"
      ],
      "metadata": {
        "colab": {
          "base_uri": "https://localhost:8080/"
        },
        "id": "D4dNkAyPPzq9",
        "outputId": "08b3e456-0284-4688-80d9-76637f269f67"
      },
      "execution_count": null,
      "outputs": [
        {
          "output_type": "stream",
          "name": "stderr",
          "text": [
            "/usr/local/lib/python3.11/dist-packages/urllib3/connectionpool.py:1097: InsecureRequestWarning: Unverified HTTPS request is being made to host 'openaipublic.blob.core.windows.net'. Adding certificate verification is strongly advised. See: https://urllib3.readthedocs.io/en/latest/advanced-usage.html#tls-warnings\n",
            "  warnings.warn(\n",
            "checkpoint: 100%|██████████| 77.0/77.0 [00:00<00:00, 136kiB/s]\n",
            "/usr/local/lib/python3.11/dist-packages/urllib3/connectionpool.py:1097: InsecureRequestWarning: Unverified HTTPS request is being made to host 'openaipublic.blob.core.windows.net'. Adding certificate verification is strongly advised. See: https://urllib3.readthedocs.io/en/latest/advanced-usage.html#tls-warnings\n",
            "  warnings.warn(\n",
            "encoder.json: 100%|██████████| 1.04M/1.04M [00:01<00:00, 570kiB/s]\n",
            "/usr/local/lib/python3.11/dist-packages/urllib3/connectionpool.py:1097: InsecureRequestWarning: Unverified HTTPS request is being made to host 'openaipublic.blob.core.windows.net'. Adding certificate verification is strongly advised. See: https://urllib3.readthedocs.io/en/latest/advanced-usage.html#tls-warnings\n",
            "  warnings.warn(\n",
            "hparams.json: 100%|██████████| 91.0/91.0 [00:00<00:00, 238kiB/s]\n",
            "/usr/local/lib/python3.11/dist-packages/urllib3/connectionpool.py:1097: InsecureRequestWarning: Unverified HTTPS request is being made to host 'openaipublic.blob.core.windows.net'. Adding certificate verification is strongly advised. See: https://urllib3.readthedocs.io/en/latest/advanced-usage.html#tls-warnings\n",
            "  warnings.warn(\n",
            "model.ckpt.data-00000-of-00001: 100%|██████████| 1.42G/1.42G [07:37<00:00, 3.10MiB/s]\n",
            "/usr/local/lib/python3.11/dist-packages/urllib3/connectionpool.py:1097: InsecureRequestWarning: Unverified HTTPS request is being made to host 'openaipublic.blob.core.windows.net'. Adding certificate verification is strongly advised. See: https://urllib3.readthedocs.io/en/latest/advanced-usage.html#tls-warnings\n",
            "  warnings.warn(\n",
            "model.ckpt.index: 100%|██████████| 10.4k/10.4k [00:00<00:00, 12.3MiB/s]\n",
            "/usr/local/lib/python3.11/dist-packages/urllib3/connectionpool.py:1097: InsecureRequestWarning: Unverified HTTPS request is being made to host 'openaipublic.blob.core.windows.net'. Adding certificate verification is strongly advised. See: https://urllib3.readthedocs.io/en/latest/advanced-usage.html#tls-warnings\n",
            "  warnings.warn(\n",
            "model.ckpt.meta: 100%|██████████| 927k/927k [00:01<00:00, 506kiB/s]\n",
            "/usr/local/lib/python3.11/dist-packages/urllib3/connectionpool.py:1097: InsecureRequestWarning: Unverified HTTPS request is being made to host 'openaipublic.blob.core.windows.net'. Adding certificate verification is strongly advised. See: https://urllib3.readthedocs.io/en/latest/advanced-usage.html#tls-warnings\n",
            "  warnings.warn(\n",
            "vocab.bpe: 100%|██████████| 456k/456k [00:01<00:00, 319kiB/s]\n"
          ]
        }
      ]
    },
    {
      "cell_type": "code",
      "source": [
        "device = torch.device(\"cuda\" if torch.cuda.is_available() else \"cpu\")\n",
        "\n",
        "model = GPTModel(BASE_CONFIG)\n",
        "load_weights_into_gpt(model,params)\n",
        "model.to(device)\n",
        "model.eval();"
      ],
      "metadata": {
        "id": "iFXX7OdcPssp"
      },
      "execution_count": null,
      "outputs": []
    },
    {
      "cell_type": "code",
      "source": [
        "import tiktoken\n",
        "\n",
        "tokenizer = tiktoken.get_encoding(\"gpt2\")\n",
        "\n",
        "def text_to_token_ids(text, tokenizer):\n",
        "    encoded = tokenizer.encode(text, allowed_special={'<|endoftext|>'})\n",
        "    encoded_tensor = torch.tensor(encoded).unsqueeze(0) # add batch dimension\n",
        "    return encoded_tensor\n",
        "\n",
        "def token_ids_to_text(token_ids, tokenizer):\n",
        "    flat = token_ids.squeeze(0) # remove batch dimension\n",
        "    return tokenizer.decode(flat.tolist())"
      ],
      "metadata": {
        "id": "9nG3Qfk-Ecz9"
      },
      "execution_count": null,
      "outputs": []
    },
    {
      "cell_type": "code",
      "source": [
        "def generate(model, idx, max_new_tokens, context_size, temperature=0.0, top_k=None, eos_id=None):\n",
        "\n",
        "    # For-loop is the same as before: Get logits, and only focus on last time step\n",
        "    for _ in range(max_new_tokens):\n",
        "        idx_cond = idx[:, -context_size:]\n",
        "        with torch.no_grad():\n",
        "            logits = model(idx_cond)\n",
        "        logits = logits[:, -1, :]\n",
        "\n",
        "        # New: Filter logits with top_k sampling\n",
        "        if top_k is not None:\n",
        "            # Keep only top_k values\n",
        "            top_logits, _ = torch.topk(logits, top_k)\n",
        "            min_val = top_logits[:, -1]\n",
        "            logits = torch.where(logits < min_val, torch.tensor(float(\"-inf\")).to(logits.device), logits)\n",
        "\n",
        "        # New: Apply temperature scaling\n",
        "        if temperature > 0.0:\n",
        "            logits = logits / temperature\n",
        "\n",
        "            # Apply softmax to get probabilities\n",
        "            probs = torch.softmax(logits, dim=-1)  # (batch_size, context_len)\n",
        "\n",
        "            # Sample from the distribution\n",
        "            idx_next = torch.multinomial(probs, num_samples=1)  # (batch_size, 1)\n",
        "\n",
        "        # Otherwise same as before: get idx of the vocab entry with the highest logits value\n",
        "        else:\n",
        "            idx_next = torch.argmax(logits, dim=-1, keepdim=True)  # (batch_size, 1)\n",
        "\n",
        "        if idx_next == eos_id:  # Stop generating early if end-of-sequence token is encountered and eos_id is specified\n",
        "            break\n",
        "\n",
        "        # Same as before: append sampled index to the running sequence\n",
        "        idx = torch.cat((idx, idx_next), dim=1)  # (batch_size, num_tokens+1)\n",
        "\n",
        "    return idx"
      ],
      "metadata": {
        "id": "V4pOGtkuEZS_"
      },
      "execution_count": null,
      "outputs": []
    },
    {
      "cell_type": "markdown",
      "source": [
        "#here we doesn't train we just passing the input to the model and will see what input it gives us"
      ],
      "metadata": {
        "id": "zKSWnBG0bDwp"
      }
    },
    {
      "cell_type": "code",
      "source": [
        "torch.manual_seed(123)\n",
        "input_text = format_input(test_data[1])\n",
        "print(input_text)"
      ],
      "metadata": {
        "colab": {
          "base_uri": "https://localhost:8080/"
        },
        "id": "njvtWtkBULa9",
        "outputId": "9f0ebba3-97eb-4ff9-bd1a-0276c3125012"
      },
      "execution_count": null,
      "outputs": [
        {
          "output_type": "stream",
          "name": "stdout",
          "text": [
            "Below is an instruction that describes a task. Write a response that appropriately completes the request.\n",
            "\n",
            "## Instruction:\n",
            "Reword the following sentence to the future tense.\n",
            "\n",
            "## Input:\n",
            "He is reading a novel inspired by his grandmother.\n",
            "\n",
            "## Response:\n",
            "He will be reading a novel inspired by his grandmother.\n"
          ]
        }
      ]
    },
    {
      "cell_type": "code",
      "source": [
        "token_ids = generate(\n",
        "    model=model,\n",
        "    idx=text_to_token_ids(input_text, tokenizer).to(device),\n",
        "    max_new_tokens=35,\n",
        "    context_size=BASE_CONFIG[\"context_length\"],\n",
        "    eos_id=50256,\n",
        ")\n",
        "generated_text = token_ids_to_text(token_ids, tokenizer)"
      ],
      "metadata": {
        "id": "ifcsRlMrUOWY"
      },
      "execution_count": null,
      "outputs": []
    },
    {
      "cell_type": "code",
      "source": [
        "response_text = generated_text[len(input_text):].strip()\n",
        "print(response_text)"
      ],
      "metadata": {
        "colab": {
          "base_uri": "https://localhost:8080/"
        },
        "id": "YN9kenn3UhM7",
        "outputId": "f96c42e2-53c1-4644-f04b-933040bb6548"
      },
      "execution_count": null,
      "outputs": [
        {
          "output_type": "stream",
          "name": "stdout",
          "text": [
            "## Output:\n",
            "\n",
            "He will be reading a novel inspired by his grandmother.\n",
            "\n",
            "## Example:\n",
            "\n",
            "He is reading a novel inspired by his grandmother.\n"
          ]
        }
      ]
    },
    {
      "cell_type": "markdown",
      "source": [
        "#FINETUNING THE LLM ON INSTRUCTION DATA"
      ],
      "metadata": {
        "id": "Al1R9MqIUup8"
      }
    },
    {
      "cell_type": "code",
      "source": [
        "def calc_loss_batch(input_batch, target_batch, model, device):\n",
        "    input_batch, target_batch = input_batch.to(device), target_batch.to(device)\n",
        "    logits = model(input_batch)\n",
        "    loss = torch.nn.functional.cross_entropy(logits.flatten(0, 1), target_batch.flatten())\n",
        "    return loss\n",
        "\n",
        "\n",
        "def calc_loss_loader(data_loader, model, device, num_batches=None):\n",
        "    total_loss = 0.\n",
        "    if len(data_loader) == 0:\n",
        "        return float(\"nan\")\n",
        "    elif num_batches is None:\n",
        "        num_batches = len(data_loader)\n",
        "    else:\n",
        "        # Reduce the number of batches to match the total number of batches in the data loader\n",
        "        # if num_batches exceeds the number of batches in the data loader\n",
        "        num_batches = min(num_batches, len(data_loader))\n",
        "    for i, (input_batch, target_batch) in enumerate(data_loader):\n",
        "        if i < num_batches:\n",
        "            loss = calc_loss_batch(input_batch, target_batch, model, device)\n",
        "            total_loss += loss.item()\n",
        "        else:\n",
        "            break\n",
        "    return total_loss / num_batches\n",
        "\n",
        "\n"
      ],
      "metadata": {
        "id": "FPK5SPQhbZ1Q"
      },
      "execution_count": null,
      "outputs": []
    },
    {
      "cell_type": "code",
      "source": [
        "model.to(device)\n",
        "\n",
        "torch.manual_seed(123)\n",
        "\n",
        "with torch.no_grad():\n",
        "    train_loss = calc_loss_loader(train_loader, model, device, num_batches=5)\n",
        "    test_loss = calc_loss_loader(test_loader, model, device, num_batches=5)\n",
        "\n",
        "print(\"Training loss:\", train_loss)\n",
        "print(\"Testing loss:\", test_loss)"
      ],
      "metadata": {
        "colab": {
          "base_uri": "https://localhost:8080/"
        },
        "id": "hv6y1nQ8bdlE",
        "outputId": "06bb466a-3730-4b7d-cdbc-ff59a9e5e187"
      },
      "execution_count": null,
      "outputs": [
        {
          "output_type": "stream",
          "name": "stdout",
          "text": [
            "Training loss: 3.8503973484039307\n",
            "Testing loss: 3.780237627029419\n"
          ]
        }
      ]
    },
    {
      "cell_type": "code",
      "source": [
        "def evaluate_model(gpt, train_loader, test_loader, device, eval_iter):\n",
        "    gpt.eval()\n",
        "    with torch.no_grad():\n",
        "        train_loss = calc_loss_loader(train_loader, gpt, device, num_batches=eval_iter)\n",
        "        test_loss = calc_loss_loader(test_loader, gpt, device, num_batches=eval_iter)\n",
        "    gpt.train()\n",
        "    return train_loss, test_loss"
      ],
      "metadata": {
        "id": "vR1mu5-VcqnG"
      },
      "execution_count": null,
      "outputs": []
    },
    {
      "cell_type": "code",
      "source": [
        "def train_model_simple(model, train_loader, test_loader, optimizer, device, num_epochs,\n",
        "                       eval_freq, eval_iter):\n",
        "    # Initialize lists to track losses and tokens seen\n",
        "    train_losses, test_losses, track_tokens_seen = [], [], []\n",
        "    tokens_seen, global_step = 0, -1\n",
        "\n",
        "    # Main training loop\n",
        "    for epoch in range(num_epochs):\n",
        "        model.train()  # Set model to training mode\n",
        "\n",
        "        for input_batch, target_batch in train_loader:\n",
        "            optimizer.zero_grad() # Reset loss gradients from previous batch iteration\n",
        "            loss = calc_loss_batch(input_batch, target_batch, model, device)\n",
        "            loss.backward() # Calculate loss gradients\n",
        "            optimizer.step() # Update model weights using loss gradients\n",
        "            tokens_seen += input_batch.numel() # Returns the total number of elements (or tokens) in the input_batch.\n",
        "            global_step += 1\n",
        "\n",
        "            # Optional evaluation step\n",
        "            if global_step % eval_freq == 0:\n",
        "                train_loss, val_loss = evaluate_model(\n",
        "                    model, train_loader, test_loader, device, eval_iter)\n",
        "                train_losses.append(train_loss)\n",
        "                test_losses.append(val_loss)\n",
        "                track_tokens_seen.append(tokens_seen)\n",
        "                print(f\"Ep {epoch+1} (Step {global_step:06d}): \"\n",
        "                      f\"Train loss {train_loss:.3f}, Val loss {val_loss:.3f}\")\n",
        "\n",
        "\n",
        "\n",
        "    return train_losses, test_losses, track_tokens_seen"
      ],
      "metadata": {
        "id": "CsF90LwUbzn_"
      },
      "execution_count": null,
      "outputs": []
    },
    {
      "cell_type": "code",
      "source": [
        "import time\n",
        "\n",
        "start_time = time.time()\n",
        "\n",
        "torch.manual_seed(123)\n",
        "\n",
        "optimizer = torch.optim.AdamW(model.parameters(), lr=0.00005, weight_decay=0.1)\n",
        "\n",
        "num_epochs = 1\n",
        "\n",
        "train_losses, test_losses, tokens_seen = train_model_simple(\n",
        "    model, train_loader, test_loader, optimizer, device,\n",
        "    num_epochs=num_epochs, eval_freq=5, eval_iter=5,\n",
        "\n",
        ")\n",
        "\n",
        "end_time = time.time()\n",
        "execution_time_minutes = (end_time - start_time) / 60\n",
        "print(f\"Training completed in {execution_time_minutes:.2f} minutes.\")"
      ],
      "metadata": {
        "colab": {
          "base_uri": "https://localhost:8080/"
        },
        "id": "Y9oz2L9nb519",
        "outputId": "a618e8d4-e04b-45a8-8c26-a852c24c0f47"
      },
      "execution_count": null,
      "outputs": [
        {
          "output_type": "stream",
          "name": "stdout",
          "text": [
            "Ep 1 (Step 000000): Train loss 2.552, Val loss 2.537\n",
            "Ep 1 (Step 000005): Train loss 1.043, Val loss 1.089\n",
            "Ep 1 (Step 000010): Train loss 0.870, Val loss 0.982\n",
            "Ep 1 (Step 000015): Train loss 0.803, Val loss 0.916\n",
            "Ep 1 (Step 000020): Train loss 0.839, Val loss 0.873\n",
            "Ep 1 (Step 000025): Train loss 0.762, Val loss 0.849\n",
            "Ep 1 (Step 000030): Train loss 0.676, Val loss 0.824\n",
            "Ep 1 (Step 000035): Train loss 0.672, Val loss 0.814\n",
            "Ep 1 (Step 000040): Train loss 0.680, Val loss 0.798\n",
            "Ep 1 (Step 000045): Train loss 0.634, Val loss 0.785\n",
            "Ep 1 (Step 000050): Train loss 0.667, Val loss 0.777\n",
            "Ep 1 (Step 000055): Train loss 0.550, Val loss 0.771\n",
            "Ep 1 (Step 000060): Train loss 0.601, Val loss 0.767\n",
            "Ep 1 (Step 000065): Train loss 0.500, Val loss 0.753\n",
            "Ep 1 (Step 000070): Train loss 0.605, Val loss 0.738\n",
            "Ep 1 (Step 000075): Train loss 0.544, Val loss 0.738\n",
            "Ep 1 (Step 000080): Train loss 0.509, Val loss 0.740\n",
            "Ep 1 (Step 000085): Train loss 0.597, Val loss 0.733\n",
            "Ep 1 (Step 000090): Train loss 0.472, Val loss 0.721\n",
            "Ep 1 (Step 000095): Train loss 0.481, Val loss 0.721\n",
            "Ep 1 (Step 000100): Train loss 0.476, Val loss 0.722\n",
            "Ep 1 (Step 000105): Train loss 0.464, Val loss 0.721\n",
            "Ep 1 (Step 000110): Train loss 0.540, Val loss 0.717\n",
            "Ep 1 (Step 000115): Train loss 0.427, Val loss 0.714\n",
            "Ep 1 (Step 000120): Train loss 0.434, Val loss 0.708\n",
            "Training completed in 1.66 minutes.\n"
          ]
        }
      ]
    },
    {
      "cell_type": "code",
      "source": [
        "import matplotlib.pyplot as plt\n",
        "from matplotlib.ticker import MaxNLocator\n",
        "\n",
        "\n",
        "def plot_losses(epochs_seen, tokens_seen, train_losses, val_losses):\n",
        "    fig, ax1 = plt.subplots(figsize=(5, 3))\n",
        "\n",
        "    # Plot training and validation loss against epochs\n",
        "    ax1.plot(epochs_seen, train_losses, label=\"Training loss\")\n",
        "    ax1.plot(epochs_seen, val_losses, linestyle=\"-.\", label=\"Validation loss\")\n",
        "    ax1.set_xlabel(\"Epochs\")\n",
        "    ax1.set_ylabel(\"Loss\")\n",
        "    ax1.legend(loc=\"upper right\")\n",
        "    ax1.xaxis.set_major_locator(MaxNLocator(integer=True))  # only show integer labels on x-axis\n",
        "\n",
        "    # Create a second x-axis for tokens seen\n",
        "    ax2 = ax1.twiny()  # Create a second x-axis that shares the same y-axis\n",
        "    ax2.plot(tokens_seen, train_losses, alpha=0)  # Invisible plot for aligning ticks\n",
        "    ax2.set_xlabel(\"Tokens seen\")\n",
        "\n",
        "    fig.tight_layout()  # Adjust layout to make room\n",
        "    plt.savefig(\"loss-plot.pdf\")\n",
        "    plt.show()"
      ],
      "metadata": {
        "id": "6YvL6pI2dCHR"
      },
      "execution_count": null,
      "outputs": []
    },
    {
      "cell_type": "code",
      "source": [
        "epochs_tensor = torch.linspace(0, num_epochs, len(train_losses))\n",
        "plot_losses(epochs_tensor, tokens_seen, train_losses, test_losses)"
      ],
      "metadata": {
        "colab": {
          "base_uri": "https://localhost:8080/",
          "height": 307
        },
        "id": "OTUOXfVUdiGF",
        "outputId": "fd2cc1aa-d972-4194-e176-0275f5bcfa51"
      },
      "execution_count": null,
      "outputs": [
        {
          "output_type": "display_data",
          "data": {
            "text/plain": [
              "<Figure size 500x300 with 2 Axes>"
            ],
            "image/png": "[encoded data removed]"
          },
          "metadata": {}
        }
      ]
    },
    {
      "cell_type": "code",
      "source": [
        "test_examples = [\n",
        "    {\n",
        "        \"instruction\": \"Name a synonym for \\\"happy.\\\"\",\n",
        "        \"output\": \">> A synonym for \\\"happy\\\" is \\\"joyful.\\\"\"\n",
        "    },\n",
        "    {\n",
        "        \"instruction\": \"What is the capital of Japan?\",\n",
        "        \"output\": \">> The capital of Japan is Tokyo.\"\n",
        "    },\n",
        "    {\n",
        "        \"instruction\": \"Convert 10 kilometers to meters.\",\n",
        "        \"output\": \">> 10 kilometers is 10,000 meters.\"\n",
        "    },\n",
        "    {\n",
        "        \"instruction\": \"Name a synonym for 'angry.'\",\n",
        "        \"input\": \"\",\n",
        "        \"output\": \"A synonym for \\\"angry\\\" is \\\"furious.\\\"\"\n",
        "    },\n",
        "    {\n",
        "        \"instruction\": \"Convert 12 kilometers to meters.\",\n",
        "        \"input\": \"\",\n",
        "        \"output\": \"12 kilometers is 12,000 meters.\"\n",
        "    },\n",
        "    {\n",
        "        \"instruction\": \"What is the capital of France?\",\n",
        "        \"input\": \"\",\n",
        "        \"output\": \"The capital of France is Paris.\"\n",
        "    },\n",
        "    {\n",
        "        \"instruction\": \"Reword the following sentence to future tense.\",\n",
        "        \"input\": \"She cooks dinner every night.\",\n",
        "        \"output\": \"She will cook dinner every night.\"\n",
        "    },\n",
        "    {\n",
        "        \"instruction\": \"Define the term 'photosynthesis'.\",\n",
        "        \"input\": \"\",\n",
        "        \"output\": \"Photosynthesis is the process by which green plants make their own food using sunlight, carbon dioxide, and water.\"\n",
        "    },\n",
        "    {\n",
        "        \"instruction\": \"Rewrite the sentence using a simile.\",\n",
        "        \"input\": \"He is very strong.\",\n",
        "        \"output\": \"He is as strong as an ox.\"\n",
        "    },\n",
        "    {\n",
        "        \"instruction\": \"Convert the following sentence to active voice.\",\n",
        "        \"input\": \"The book was read by the teacher.\",\n",
        "        \"output\": \"The teacher read the book.\"\n",
        "    },\n",
        "    {\n",
        "        \"instruction\": \"What is the past tense of 'swim'?\",\n",
        "        \"input\": \"\",\n",
        "        \"output\": \"The past tense of 'swim' is 'swam'.\"\n",
        "    },\n",
        "    {\n",
        "        \"instruction\": \"Generate a question based on this statement.\",\n",
        "        \"input\": \"Water boils at 100 degrees Celsius.\",\n",
        "        \"output\": \"What temperature does water boil at?\"\n",
        "    },\n",
        "    {\n",
        "        \"instruction\": \"Name the largest planet in our solar system.\",\n",
        "        \"input\": \"\",\n",
        "        \"output\": \"The largest planet in our solar system is Jupiter.\"\n",
        "    }\n",
        "]\n"
      ],
      "metadata": {
        "id": "U7glIVo1ltZZ"
      },
      "execution_count": null,
      "outputs": []
    },
    {
      "cell_type": "code",
      "source": [
        "def format_input_text(entry):\n",
        "    input_text = \"Below is an instruction that describes a task. Write a response that appropriately completes the request.\\n\\n\"\n",
        "    input_text += f\"### Instruction:\\n{entry['instruction']}\\n\"\n",
        "    if 'input' in entry and entry['input']:\n",
        "        input_text += f\"\\n### Input:\\n{entry['input']}\\n\"\n",
        "    return input_text\n"
      ],
      "metadata": {
        "id": "zjoIw7-Bma8u"
      },
      "execution_count": null,
      "outputs": []
    },
    {
      "cell_type": "code",
      "source": [
        "import torch\n",
        "\n",
        "torch.manual_seed(123)\n",
        "\n",
        "# Loop through examples\n",
        "for entry in test_examples:\n",
        "    input_text = format_input_text(entry)\n",
        "\n",
        "    # Generate tokens\n",
        "    token_ids = generate(\n",
        "        model=model,\n",
        "        idx=text_to_token_ids(input_text, tokenizer).to(device),\n",
        "        max_new_tokens=256,\n",
        "        context_size=BASE_CONFIG[\"context_length\"],\n",
        "        eos_id=50256\n",
        "    )\n",
        "\n",
        "    # Decode text\n",
        "    generated_text = token_ids_to_text(token_ids, tokenizer)\n",
        "\n",
        "    # Extract model response only\n",
        "    response_text = generated_text[len(input_text):].strip()\n",
        "    for tag in [\"### Response:\", \"## Response:\", \"Response:\", \"### Output:\", \"## Output:\", \"Output:\"]:\n",
        "        if tag in response_text:\n",
        "            response_text = response_text.split(tag, 1)[-1].strip()\n",
        "\n",
        "    # Print results\n",
        "    print(input_text)\n",
        "    print(f\"\\nCorrect response:\\n{entry['output']}\")\n",
        "    print(f\"\\nModel response:\\n>> {response_text.strip()}\")\n",
        "    print(\"-------------------------------------\")\n"
      ],
      "metadata": {
        "colab": {
          "base_uri": "https://localhost:8080/"
        },
        "id": "Z0XVufiVdv6e",
        "outputId": "832544e3-918e-48be-9ee3-4887bbb2feed"
      },
      "execution_count": null,
      "outputs": [
        {
          "output_type": "stream",
          "name": "stdout",
          "text": [
            "Below is an instruction that describes a task. Write a response that appropriately completes the request.\n",
            "\n",
            "### Instruction:\n",
            "Name a synonym for \"happy.\"\n",
            "\n",
            "\n",
            "Correct response:\n",
            ">> A synonym for \"happy\" is \"joyful.\"\n",
            "\n",
            "Model response:\n",
            ">> A synonym for \"happy\" is \"joyful.\"\n",
            "-------------------------------------\n",
            "Below is an instruction that describes a task. Write a response that appropriately completes the request.\n",
            "\n",
            "### Instruction:\n",
            "What is the capital of Japan?\n",
            "\n",
            "\n",
            "Correct response:\n",
            ">> The capital of Japan is Tokyo.\n",
            "\n",
            "Model response:\n",
            ">> The capital of Japan is Tokyo.\n",
            "-------------------------------------\n",
            "Below is an instruction that describes a task. Write a response that appropriately completes the request.\n",
            "\n",
            "### Instruction:\n",
            "Convert 10 kilometers to meters.\n",
            "\n",
            "\n",
            "Correct response:\n",
            ">> 10 kilometers is 10,000 meters.\n",
            "\n",
            "Model response:\n",
            ">> 10 kilometers is 1000 meters.\n",
            "-------------------------------------\n",
            "Below is an instruction that describes a task. Write a response that appropriately completes the request.\n",
            "\n",
            "### Instruction:\n",
            "Name a synonym for 'angry.'\n",
            "\n",
            "\n",
            "Correct response:\n",
            "A synonym for \"angry\" is \"furious.\"\n",
            "\n",
            "Model response:\n",
            ">> A synonym for 'angry' is 'angry.'\n",
            "-------------------------------------\n",
            "Below is an instruction that describes a task. Write a response that appropriately completes the request.\n",
            "\n",
            "### Instruction:\n",
            "Convert 12 kilometers to meters.\n",
            "\n",
            "\n",
            "Correct response:\n",
            "12 kilometers is 12,000 meters.\n",
            "\n",
            "Model response:\n",
            ">> 12 kilometers is 12 meters.\n",
            "-------------------------------------\n",
            "Below is an instruction that describes a task. Write a response that appropriately completes the request.\n",
            "\n",
            "### Instruction:\n",
            "What is the capital of France?\n",
            "\n",
            "\n",
            "Correct response:\n",
            "The capital of France is Paris.\n",
            "\n",
            "Model response:\n",
            ">> The capital of France is Paris.\n",
            "-------------------------------------\n",
            "Below is an instruction that describes a task. Write a response that appropriately completes the request.\n",
            "\n",
            "### Instruction:\n",
            "Reword the following sentence to future tense.\n",
            "\n",
            "### Input:\n",
            "She cooks dinner every night.\n",
            "\n",
            "\n",
            "Correct response:\n",
            "She will cook dinner every night.\n",
            "\n",
            "Model response:\n",
            ">> She cooks dinner every night.\n",
            "-------------------------------------\n",
            "Below is an instruction that describes a task. Write a response that appropriately completes the request.\n",
            "\n",
            "### Instruction:\n",
            "Define the term 'photosynthesis'.\n",
            "\n",
            "\n",
            "Correct response:\n",
            "Photosynthesis is the process by which green plants make their own food using sunlight, carbon dioxide, and water.\n",
            "\n",
            "Model response:\n",
            ">> Photosynthesis is the process by which plants use sunlight to synthesize food and energy from carbon dioxide and water.\n",
            "-------------------------------------\n",
            "Below is an instruction that describes a task. Write a response that appropriately completes the request.\n",
            "\n",
            "### Instruction:\n",
            "Rewrite the sentence using a simile.\n",
            "\n",
            "### Input:\n",
            "He is very strong.\n",
            "\n",
            "\n",
            "Correct response:\n",
            "He is as strong as an ox.\n",
            "\n",
            "Model response:\n",
            ">> He is as strong as a bull.\n",
            "-------------------------------------\n",
            "Below is an instruction that describes a task. Write a response that appropriately completes the request.\n",
            "\n",
            "### Instruction:\n",
            "Convert the following sentence to active voice.\n",
            "\n",
            "### Input:\n",
            "The book was read by the teacher.\n",
            "\n",
            "\n",
            "Correct response:\n",
            "The teacher read the book.\n",
            "\n",
            "Model response:\n",
            ">> The teacher read the book.\n",
            "-------------------------------------\n",
            "Below is an instruction that describes a task. Write a response that appropriately completes the request.\n",
            "\n",
            "### Instruction:\n",
            "What is the past tense of 'swim'?\n",
            "\n",
            "\n",
            "Correct response:\n",
            "The past tense of 'swim' is 'swam'.\n",
            "\n",
            "Model response:\n",
            ">> The past tense of 'swim' is 'swam'.\n",
            "-------------------------------------\n",
            "Below is an instruction that describes a task. Write a response that appropriately completes the request.\n",
            "\n",
            "### Instruction:\n",
            "Generate a question based on this statement.\n",
            "\n",
            "### Input:\n",
            "Water boils at 100 degrees Celsius.\n",
            "\n",
            "\n",
            "Correct response:\n",
            "What temperature does water boil at?\n",
            "\n",
            "Model response:\n",
            ">> Water boils at 100 degrees Celsius.\n",
            "-------------------------------------\n",
            "Below is an instruction that describes a task. Write a response that appropriately completes the request.\n",
            "\n",
            "### Instruction:\n",
            "Name the largest planet in our solar system.\n",
            "\n",
            "\n",
            "Correct response:\n",
            "The largest planet in our solar system is Jupiter.\n",
            "\n",
            "Model response:\n",
            ">> The largest planet in our solar system is Pluto.\n",
            "-------------------------------------\n"
          ]
        }
      ]
    },
    {
      "cell_type": "markdown",
      "source": [
        "#As we can see based on the test set instructions, given responses, and the model's responses, the model performs relatively well."
      ],
      "metadata": {
        "id": "7pp7be59lOzN"
      }
    },
    {
      "cell_type": "markdown",
      "source": [
        "**The answers for few question is clearly correct and some are not correct**"
      ],
      "metadata": {
        "id": "um9q6pFVnWXl"
      }
    },
    {
      "cell_type": "markdown",
      "source": [
        "# we save the model as gpt2-medium355M-instruction-finetuned.pth file to be able to reuse it in future projects:"
      ],
      "metadata": {
        "id": "gUkeBmXwsvQX"
      }
    },
    {
      "cell_type": "code",
      "source": [
        "torch.save(model.state_dict(), \"gpt2-medium355M-instruction-finetuned.pth\")\n",
        "print(f\"Model saved as gpt2-medium355M-instruction-finetuned.pth\")"
      ],
      "metadata": {
        "colab": {
          "base_uri": "https://localhost:8080/"
        },
        "id": "8QseD7_SoVtp",
        "outputId": "a1542e14-a385-41a3-9b76-63c580b6e4b9"
      },
      "execution_count": null,
      "outputs": [
        {
          "output_type": "stream",
          "name": "stdout",
          "text": [
            "Model saved as gpt2-medium355M-instruction-finetuned.pth\n"
          ]
        }
      ]
    }
  ]
}